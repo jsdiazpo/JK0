{
 "cells": [
  {
   "cell_type": "code",
   "execution_count": 1,
   "id": "796c58e1-f6ec-4e67-9bb8-9809d7a9fabc",
   "metadata": {},
   "outputs": [],
   "source": [
    "import numpy as np\n",
    "import pandas as pd\n",
    "import matplotlib.pyplot as plt\n",
    "import matplotlib.ticker as ticker\n",
    "%matplotlib inline\n",
    "plt.style.use('dark_background')\n",
    "# plt.rcParams['figure.facecolor'] = 'w'\n",
    "# rng = np.random.default_rng(seed=42)\n",
    "np.set_printoptions(suppress=True) #numpy scientific notation OFF\n",
    "# import matplotlib.ticker as tck\n",
    "from sympy import Symbol, sqrt, series"
   ]
  },
  {
   "cell_type": "code",
   "execution_count": 2,
   "id": "1eef8bee-2b3e-4d66-93c2-1801f388b79e",
   "metadata": {},
   "outputs": [],
   "source": [
    "A = np.array([[1,0,0],\n",
    "              [0,0,1],\n",
    "              [0,1,0]])"
   ]
  },
  {
   "cell_type": "code",
   "execution_count": 3,
   "id": "910f2556-1c53-4118-a6af-6bd10bdb1940",
   "metadata": {},
   "outputs": [
    {
     "data": {
      "text/plain": [
       "EigResult(eigenvalues=array([ 1., -1.,  1.]), eigenvectors=array([[ 0.        ,  0.        ,  1.        ],\n",
       "       [ 0.70710678,  0.70710678,  0.        ],\n",
       "       [ 0.70710678, -0.70710678,  0.        ]]))"
      ]
     },
     "execution_count": 3,
     "metadata": {},
     "output_type": "execute_result"
    }
   ],
   "source": [
    "np.linalg.eig(A)"
   ]
  },
  {
   "cell_type": "code",
   "execution_count": null,
   "id": "c848ab41-daff-4f32-a92c-3dcf861b976e",
   "metadata": {},
   "outputs": [],
   "source": []
  },
  {
   "cell_type": "code",
   "execution_count": null,
   "id": "4bbffe09-d32d-4d07-a6cc-48ff816d199d",
   "metadata": {},
   "outputs": [],
   "source": []
  },
  {
   "cell_type": "code",
   "execution_count": null,
   "id": "ca6dce70-d3ad-407b-94e8-0256304d9f67",
   "metadata": {},
   "outputs": [],
   "source": []
  },
  {
   "cell_type": "code",
   "execution_count": 4,
   "id": "19349b3a-9c85-484e-a00c-4ab5239a4a9e",
   "metadata": {},
   "outputs": [],
   "source": [
    "c = 3e8  # m/s\n",
    "h = 6.626e-34  # J*s\n",
    "m = 9.11e-31  # kg\n",
    "q = 1.6e-19  # electron's charge\n",
    "e0 = 8.84e-12  # permitivity of free space in SI units\n",
    "hbar = h/(2*np.pi)\n",
    "ke = 1/(4*np.pi*e0)"
   ]
  },
  {
   "cell_type": "code",
   "execution_count": 27,
   "id": "5c6177d9-36ed-47af-be42-6d55739bf3f4",
   "metadata": {},
   "outputs": [
    {
     "data": {
      "text/plain": [
       "0.0072842529475046665"
      ]
     },
     "execution_count": 27,
     "metadata": {},
     "output_type": "execute_result"
    }
   ],
   "source": [
    "(1/(4*np.pi*e0) * q**2/(hbar*c))"
   ]
  },
  {
   "cell_type": "code",
   "execution_count": 30,
   "id": "5ab15c1c-f866-4efd-a32a-cd31782fbe84",
   "metadata": {},
   "outputs": [
    {
     "data": {
      "text/plain": [
       "136.986301369863"
      ]
     },
     "execution_count": 30,
     "metadata": {},
     "output_type": "execute_result"
    }
   ],
   "source": [
    "1/0.0073"
   ]
  },
  {
   "cell_type": "code",
   "execution_count": 31,
   "id": "4fe87df5-bf9b-485b-a708-f66a460a3014",
   "metadata": {},
   "outputs": [
    {
     "data": {
      "text/plain": [
       "1.3265085250807606e-05"
      ]
     },
     "execution_count": 31,
     "metadata": {},
     "output_type": "execute_result"
    }
   ],
   "source": [
    "# Sommerfeld's alpha [eq.(16)]\n",
    "((1/(4*np.pi*e0) * q**2/(hbar*c)) * 1/2)**2"
   ]
  },
  {
   "cell_type": "code",
   "execution_count": null,
   "id": "27ca360e-75fe-4a89-ad7f-864065f80092",
   "metadata": {},
   "outputs": [],
   "source": []
  },
  {
   "cell_type": "code",
   "execution_count": 21,
   "id": "413faf3d-58c2-4679-bbca-b4153ba1effb",
   "metadata": {},
   "outputs": [
    {
     "data": {
      "text/plain": [
       "(-2.856, -3.4, -0.544)"
      ]
     },
     "execution_count": 21,
     "metadata": {},
     "output_type": "execute_result"
    }
   ],
   "source": [
    "-13.6 * (1/2**2-1/5**2), -13.6 * 1/2**2, -13.6 * 1/5**2"
   ]
  },
  {
   "cell_type": "code",
   "execution_count": 22,
   "id": "f162a6c9-0d6f-406e-82eb-835973f6556b",
   "metadata": {},
   "outputs": [
    {
     "data": {
      "text/plain": [
       "-2.86"
      ]
     },
     "execution_count": 22,
     "metadata": {},
     "output_type": "execute_result"
    }
   ],
   "source": [
    "-3.40+0.54"
   ]
  },
  {
   "cell_type": "code",
   "execution_count": 20,
   "id": "ccbe3f83-b15b-4f2b-ad13-8435b2ebb22e",
   "metadata": {},
   "outputs": [
    {
     "data": {
      "text/plain": [
       "'6.91e+14'"
      ]
     },
     "execution_count": 20,
     "metadata": {},
     "output_type": "execute_result"
    }
   ],
   "source": [
    "f'{c/434e-9:.2e}'"
   ]
  },
  {
   "cell_type": "code",
   "execution_count": 17,
   "id": "6a2da7a3-d4c2-4c9f-99e8-2fae870fb0ad",
   "metadata": {},
   "outputs": [
    {
     "data": {
      "text/plain": [
       "2.8626152073732722"
      ]
     },
     "execution_count": 17,
     "metadata": {},
     "output_type": "execute_result"
    }
   ],
   "source": [
    "h*c/434e-9 * 1/1.6e-19"
   ]
  },
  {
   "cell_type": "code",
   "execution_count": 15,
   "id": "a6a650e1-b857-497e-a8e8-5ab21ba8f71e",
   "metadata": {},
   "outputs": [
    {
     "data": {
      "text/plain": [
       "(6.242e+18, 6.25e+18)"
      ]
     },
     "execution_count": 15,
     "metadata": {},
     "output_type": "execute_result"
    }
   ],
   "source": [
    "6.242e18, 1/1.6e-19"
   ]
  },
  {
   "cell_type": "code",
   "execution_count": null,
   "id": "700e518b-be06-4e3d-b92b-c7cbecba55c1",
   "metadata": {},
   "outputs": [],
   "source": []
  },
  {
   "cell_type": "code",
   "execution_count": null,
   "id": "43892f40-9c5d-4e7d-9ad8-4d8097bf707d",
   "metadata": {},
   "outputs": [],
   "source": []
  },
  {
   "cell_type": "code",
   "execution_count": 4,
   "id": "7d1fed55-820e-4b0b-b830-8dfcc65e5894",
   "metadata": {},
   "outputs": [
    {
     "data": {
      "text/plain": [
       "8.841941282883074e-12"
      ]
     },
     "execution_count": 4,
     "metadata": {},
     "output_type": "execute_result"
    }
   ],
   "source": [
    "1/(4e-7*np.pi*c**2)"
   ]
  },
  {
   "cell_type": "code",
   "execution_count": 4,
   "id": "11e9c957-fd6a-48a1-87ff-9497c4045e61",
   "metadata": {},
   "outputs": [],
   "source": []
  },
  {
   "cell_type": "code",
   "execution_count": 5,
   "id": "7ddfbe15-9dd1-49bf-a270-996b92f644dd",
   "metadata": {},
   "outputs": [
    {
     "data": {
      "text/plain": [
       "1.0545606529268985e-34"
      ]
     },
     "execution_count": 5,
     "metadata": {},
     "output_type": "execute_result"
    }
   ],
   "source": [
    "hbar"
   ]
  },
  {
   "cell_type": "code",
   "execution_count": 4,
   "id": "faab52b2-a65a-4d97-b6b8-729e02351cc3",
   "metadata": {},
   "outputs": [],
   "source": [
    "# M, np, nr = 1, 1, 1\n",
    "M, np, n = Symbol('mc^2'), Symbol('n_p'), Symbol('n')\n",
    "def gamma(alpha):\n",
    "    return sqrt(np**2 - alpha**2)\n",
    "\n",
    "def E(alpha):\n",
    "    return M*(1 + (alpha/((n-np) + gamma(alpha)))**2)**(-1/2)"
   ]
  },
  {
   "cell_type": "code",
   "execution_count": 5,
   "id": "affbf7d2-4f89-47b0-a1f7-d3ddc18c0a46",
   "metadata": {},
   "outputs": [
    {
     "data": {
      "text/latex": [
       "$\\displaystyle mc^{2} - \\frac{0.5 mc^{2} α^{2}}{\\left(n - n_{p} + \\sqrt{n_{p}^{2}}\\right)^{2}} + mc^{2} α^{4} \\cdot \\left(\\frac{0.375}{\\left(n - n_{p} + \\sqrt{n_{p}^{2}}\\right)^{4}} - \\frac{0.5 \\sqrt{n_{p}^{2}}}{n_{p}^{2} \\left(n - n_{p} + \\sqrt{n_{p}^{2}}\\right)^{3}}\\right) + O\\left(α^{6}\\right)$"
      ],
      "text/plain": [
       "mc^2 - 0.5*mc^2*α**2/(n - n_p + sqrt(n_p**2))**2 + mc^2*α**4*(0.375/(n - n_p + sqrt(n_p**2))**4 - 0.5*sqrt(n_p**2)/(n_p**2*(n - n_p + sqrt(n_p**2))**3)) + O(α**6)"
      ]
     },
     "execution_count": 5,
     "metadata": {},
     "output_type": "execute_result"
    }
   ],
   "source": [
    "alpha = Symbol('α')\n",
    "\n",
    "series(E(alpha), alpha)"
   ]
  },
  {
   "cell_type": "code",
   "execution_count": 36,
   "id": "c7c0966f-7993-45a3-be1b-c2362303378e",
   "metadata": {},
   "outputs": [
    {
     "data": {
      "text/latex": [
       "$\\displaystyle \\frac{0.375 m v^{4}}{c^{2}} + 0.5 m v^{2} + c^{2} m + O\\left(v^{6}\\right)$"
      ],
      "text/plain": [
       "0.375*m*v**4/c**2 + 0.5*m*v**2 + c**2*m + O(v**6)"
      ]
     },
     "execution_count": 36,
     "metadata": {},
     "output_type": "execute_result"
    }
   ],
   "source": [
    "from sympy import Symbol, sqrt, series, sympify\n",
    "\n",
    "def gamma(v):\n",
    "    return (1-v**2/c**2)**(-1/2)\n",
    "    \n",
    "def E(v):\n",
    "    return gamma(v) * m*c**2\n",
    "\n",
    "m, c, v = Symbol('m'), Symbol('c'), Symbol('v')\n",
    "\n",
    "series(E(v), v)"
   ]
  },
  {
   "cell_type": "code",
   "execution_count": 7,
   "id": "e0af3d2f-152e-4888-99f1-634ec22e1dca",
   "metadata": {},
   "outputs": [
    {
     "data": {
      "text/plain": [
       "0.375"
      ]
     },
     "execution_count": 7,
     "metadata": {},
     "output_type": "execute_result"
    }
   ],
   "source": [
    "3/8"
   ]
  },
  {
   "cell_type": "code",
   "execution_count": null,
   "id": "4fb08850-da37-4765-97cd-22ee5e71e2c0",
   "metadata": {},
   "outputs": [],
   "source": []
  },
  {
   "cell_type": "code",
   "execution_count": 40,
   "id": "b783abac-ad38-4ed9-893d-d3fb77323a2f",
   "metadata": {},
   "outputs": [
    {
     "data": {
      "text/plain": [
       "4699.765831783262"
      ]
     },
     "execution_count": 40,
     "metadata": {},
     "output_type": "execute_result"
    }
   ],
   "source": [
    "# line 4686 (Helium+)\n",
    "E34 = m/2*(2*ke*q**2/hbar)**2 * (1/3**2-1/4**2)\n",
    "h*c/E34 * 1e10 # wavelength in A"
   ]
  },
  {
   "cell_type": "code",
   "execution_count": 41,
   "id": "aa7b6118-fe54-4b7f-bebe-ed8720e6b29e",
   "metadata": {},
   "outputs": [
    {
     "data": {
      "text/plain": [
       "2.175208679427431e-18"
      ]
     },
     "execution_count": 41,
     "metadata": {},
     "output_type": "execute_result"
    }
   ],
   "source": [
    "R = m/2*(ke*q**2/hbar)**2\n",
    "R"
   ]
  },
  {
   "cell_type": "code",
   "execution_count": 48,
   "id": "4ed14aa6-058c-41cf-94a4-75ab36b5bd01",
   "metadata": {},
   "outputs": [
    {
     "data": {
      "text/plain": [
       "2.184186690819969e-18"
      ]
     },
     "execution_count": 48,
     "metadata": {},
     "output_type": "execute_result"
    }
   ],
   "source": [
    "m*c**2/2 * (1/137)**2"
   ]
  },
  {
   "cell_type": "code",
   "execution_count": 46,
   "id": "34ff9ed0-0e6c-4230-8d31-e4da78156352",
   "metadata": {},
   "outputs": [
    {
     "data": {
      "text/plain": [
       "0.027433101617647056"
      ]
     },
     "execution_count": 46,
     "metadata": {},
     "output_type": "execute_result"
    }
   ],
   "source": [
    "1 / (13.6*1.6e-19/(h*c)*1/(16*137**2))"
   ]
  },
  {
   "cell_type": "code",
   "execution_count": 49,
   "id": "55ebbd3a-3893-4403-9342-ceb52b473fdc",
   "metadata": {},
   "outputs": [
    {
     "data": {
      "text/plain": [
       "5.3279343598486864e-05"
      ]
     },
     "execution_count": 49,
     "metadata": {},
     "output_type": "execute_result"
    }
   ],
   "source": [
    "1/137**2"
   ]
  },
  {
   "cell_type": "code",
   "execution_count": 7,
   "id": "e81170d4-8aeb-4264-bcb9-1d2f603b9fd3",
   "metadata": {},
   "outputs": [
    {
     "data": {
      "text/plain": [
       "0.0072842529475046665"
      ]
     },
     "execution_count": 7,
     "metadata": {},
     "output_type": "execute_result"
    }
   ],
   "source": [
    "# alpha\n",
    "alpha = ke * q**2/(hbar*c)\n",
    "alpha"
   ]
  },
  {
   "cell_type": "code",
   "execution_count": 10,
   "id": "4716f8e7-0bf7-4e99-9cfc-9cadbac12bb8",
   "metadata": {},
   "outputs": [
    {
     "data": {
      "text/plain": [
       "(18846.4676459414, 18778.86960440109)"
      ]
     },
     "execution_count": 10,
     "metadata": {},
     "output_type": "execute_result"
    }
   ],
   "source": [
    "1/alpha**2, np.pi**2 + 137**2"
   ]
  },
  {
   "cell_type": "code",
   "execution_count": 11,
   "id": "966e70f3-853d-435b-8e50-93ef679369a7",
   "metadata": {},
   "outputs": [
    {
     "data": {
      "text/plain": [
       "(137.2824375, 137.0363037758784)"
      ]
     },
     "execution_count": 11,
     "metadata": {},
     "output_type": "execute_result"
    }
   ],
   "source": [
    "# Pauli-Jung\n",
    "1/alpha, 4*np.pi**3 + np.pi**2 + np.pi"
   ]
  },
  {
   "cell_type": "code",
   "execution_count": null,
   "id": "4ed963a1-1702-4cfb-a82e-ccadaa0a8c74",
   "metadata": {},
   "outputs": [],
   "source": []
  }
 ],
 "metadata": {
  "kernelspec": {
   "display_name": "Python 3 (ipykernel)",
   "language": "python",
   "name": "python3"
  },
  "language_info": {
   "codemirror_mode": {
    "name": "ipython",
    "version": 3
   },
   "file_extension": ".py",
   "mimetype": "text/x-python",
   "name": "python",
   "nbconvert_exporter": "python",
   "pygments_lexer": "ipython3",
   "version": "3.10.4"
  }
 },
 "nbformat": 4,
 "nbformat_minor": 5
}
